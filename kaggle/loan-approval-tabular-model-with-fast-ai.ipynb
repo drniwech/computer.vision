{
 "cells": [
  {
   "cell_type": "code",
   "execution_count": 1,
   "metadata": {
    "_cell_guid": "b1076dfc-b9ad-4769-8c92-a6c4dae69d19",
    "_uuid": "8f2839f25d086af736a60e9eeb907d3b93b6e0e5",
    "execution": {
     "iopub.execute_input": "2021-01-26T22:09:09.615493Z",
     "iopub.status.busy": "2021-01-26T22:09:09.614716Z",
     "iopub.status.idle": "2021-01-26T22:09:09.634647Z",
     "shell.execute_reply": "2021-01-26T22:09:09.633807Z"
    },
    "papermill": {
     "duration": 0.040909,
     "end_time": "2021-01-26T22:09:09.634779",
     "exception": false,
     "start_time": "2021-01-26T22:09:09.593870",
     "status": "completed"
    },
    "tags": []
   },
   "outputs": [
    {
     "name": "stdout",
     "output_type": "stream",
     "text": [
      "/kaggle/input/loan-approval-data-set/Loan_Train.csv\n"
     ]
    }
   ],
   "source": [
    "# This Python 3 environment comes with many helpful analytics libraries installed\n",
    "# It is defined by the kaggle/python Docker image: https://github.com/kaggle/docker-python\n",
    "# For example, here's several helpful packages to load\n",
    "\n",
    "import numpy as np # linear algebra\n",
    "import pandas as pd # data processing, CSV file I/O (e.g. pd.read_csv)\n",
    "\n",
    "# Input data files are available in the read-only \"../input/\" directory\n",
    "# For example, running this (by clicking run or pressing Shift+Enter) will list all files under the input directory\n",
    "\n",
    "import os\n",
    "for dirname, _, filenames in os.walk('/kaggle/input'):\n",
    "    for filename in filenames:\n",
    "        print(os.path.join(dirname, filename))\n",
    "\n",
    "# You can write up to 20GB to the current directory (/kaggle/working/) that gets preserved as output when you create a version using \"Save & Run All\" \n",
    "# You can also write temporary files to /kaggle/temp/, but they won't be saved outside of the current session"
   ]
  },
  {
   "cell_type": "code",
   "execution_count": 2,
   "metadata": {
    "execution": {
     "iopub.execute_input": "2021-01-26T22:09:09.666709Z",
     "iopub.status.busy": "2021-01-26T22:09:09.666083Z",
     "iopub.status.idle": "2021-01-26T22:09:23.773310Z",
     "shell.execute_reply": "2021-01-26T22:09:23.773794Z"
    },
    "papermill": {
     "duration": 14.125456,
     "end_time": "2021-01-26T22:09:23.773949",
     "exception": false,
     "start_time": "2021-01-26T22:09:09.648493",
     "status": "completed"
    },
    "tags": []
   },
   "outputs": [],
   "source": [
    "!pip install -Uqq fastbook\n",
    "import fastbook\n",
    "fastbook.setup_book()"
   ]
  },
  {
   "cell_type": "code",
   "execution_count": 3,
   "metadata": {
    "execution": {
     "iopub.execute_input": "2021-01-26T22:09:23.807366Z",
     "iopub.status.busy": "2021-01-26T22:09:23.806708Z",
     "iopub.status.idle": "2021-01-26T22:09:23.825072Z",
     "shell.execute_reply": "2021-01-26T22:09:23.825555Z"
    },
    "papermill": {
     "duration": 0.037842,
     "end_time": "2021-01-26T22:09:23.825686",
     "exception": false,
     "start_time": "2021-01-26T22:09:23.787844",
     "status": "completed"
    },
    "tags": []
   },
   "outputs": [
    {
     "data": {
      "text/plain": [
       "Path('/kaggle/input/loan-approval-data-set')"
      ]
     },
     "execution_count": 3,
     "metadata": {},
     "output_type": "execute_result"
    }
   ],
   "source": [
    "from fastbook import *\n",
    "from fastai.tabular.all import *\n",
    "\n",
    "path=Path('/kaggle/input/loan-approval-data-set')\n",
    "path"
   ]
  },
  {
   "cell_type": "code",
   "execution_count": 4,
   "metadata": {
    "execution": {
     "iopub.execute_input": "2021-01-26T22:09:23.856069Z",
     "iopub.status.busy": "2021-01-26T22:09:23.855548Z",
     "iopub.status.idle": "2021-01-26T22:09:23.878617Z",
     "shell.execute_reply": "2021-01-26T22:09:23.879089Z"
    },
    "papermill": {
     "duration": 0.039729,
     "end_time": "2021-01-26T22:09:23.879296",
     "exception": false,
     "start_time": "2021-01-26T22:09:23.839567",
     "status": "completed"
    },
    "tags": []
   },
   "outputs": [],
   "source": [
    "df=pd.read_csv(path/'Loan_Train.csv', low_memory=False)"
   ]
  },
  {
   "cell_type": "code",
   "execution_count": 5,
   "metadata": {
    "execution": {
     "iopub.execute_input": "2021-01-26T22:09:23.913332Z",
     "iopub.status.busy": "2021-01-26T22:09:23.912448Z",
     "iopub.status.idle": "2021-01-26T22:09:23.916745Z",
     "shell.execute_reply": "2021-01-26T22:09:23.916299Z"
    },
    "papermill": {
     "duration": 0.023354,
     "end_time": "2021-01-26T22:09:23.916852",
     "exception": false,
     "start_time": "2021-01-26T22:09:23.893498",
     "status": "completed"
    },
    "tags": []
   },
   "outputs": [
    {
     "data": {
      "text/plain": [
       "Index(['Loan_ID', 'Gender', 'Married', 'Dependents', 'Education',\n",
       "       'Self_Employed', 'ApplicantIncome', 'CoapplicantIncome', 'LoanAmount',\n",
       "       'Loan_Amount_Term', 'Credit_History', 'Property_Area', 'Loan_Status'],\n",
       "      dtype='object')"
      ]
     },
     "execution_count": 5,
     "metadata": {},
     "output_type": "execute_result"
    }
   ],
   "source": [
    "df.columns"
   ]
  },
  {
   "cell_type": "code",
   "execution_count": 6,
   "metadata": {
    "execution": {
     "iopub.execute_input": "2021-01-26T22:09:23.963158Z",
     "iopub.status.busy": "2021-01-26T22:09:23.952274Z",
     "iopub.status.idle": "2021-01-26T22:09:23.974191Z",
     "shell.execute_reply": "2021-01-26T22:09:23.974596Z"
    },
    "papermill": {
     "duration": 0.044213,
     "end_time": "2021-01-26T22:09:23.974733",
     "exception": false,
     "start_time": "2021-01-26T22:09:23.930520",
     "status": "completed"
    },
    "tags": []
   },
   "outputs": [
    {
     "data": {
      "text/html": [
       "<div>\n",
       "<style scoped>\n",
       "    .dataframe tbody tr th:only-of-type {\n",
       "        vertical-align: middle;\n",
       "    }\n",
       "\n",
       "    .dataframe tbody tr th {\n",
       "        vertical-align: top;\n",
       "    }\n",
       "\n",
       "    .dataframe thead th {\n",
       "        text-align: right;\n",
       "    }\n",
       "</style>\n",
       "<table border=\"1\" class=\"dataframe\">\n",
       "  <thead>\n",
       "    <tr style=\"text-align: right;\">\n",
       "      <th></th>\n",
       "      <th>Loan_ID</th>\n",
       "      <th>Gender</th>\n",
       "      <th>Married</th>\n",
       "      <th>Dependents</th>\n",
       "      <th>Education</th>\n",
       "      <th>Self_Employed</th>\n",
       "      <th>ApplicantIncome</th>\n",
       "      <th>CoapplicantIncome</th>\n",
       "      <th>LoanAmount</th>\n",
       "      <th>Loan_Amount_Term</th>\n",
       "      <th>Credit_History</th>\n",
       "      <th>Property_Area</th>\n",
       "      <th>Loan_Status</th>\n",
       "    </tr>\n",
       "  </thead>\n",
       "  <tbody>\n",
       "    <tr>\n",
       "      <th>0</th>\n",
       "      <td>LP001002</td>\n",
       "      <td>Male</td>\n",
       "      <td>No</td>\n",
       "      <td>0</td>\n",
       "      <td>Graduate</td>\n",
       "      <td>No</td>\n",
       "      <td>5849</td>\n",
       "      <td>0.0</td>\n",
       "      <td>NaN</td>\n",
       "      <td>360.0</td>\n",
       "      <td>1.0</td>\n",
       "      <td>Urban</td>\n",
       "      <td>Y</td>\n",
       "    </tr>\n",
       "    <tr>\n",
       "      <th>1</th>\n",
       "      <td>LP001003</td>\n",
       "      <td>Male</td>\n",
       "      <td>Yes</td>\n",
       "      <td>1</td>\n",
       "      <td>Graduate</td>\n",
       "      <td>No</td>\n",
       "      <td>4583</td>\n",
       "      <td>1508.0</td>\n",
       "      <td>128.0</td>\n",
       "      <td>360.0</td>\n",
       "      <td>1.0</td>\n",
       "      <td>Rural</td>\n",
       "      <td>N</td>\n",
       "    </tr>\n",
       "    <tr>\n",
       "      <th>2</th>\n",
       "      <td>LP001005</td>\n",
       "      <td>Male</td>\n",
       "      <td>Yes</td>\n",
       "      <td>0</td>\n",
       "      <td>Graduate</td>\n",
       "      <td>Yes</td>\n",
       "      <td>3000</td>\n",
       "      <td>0.0</td>\n",
       "      <td>66.0</td>\n",
       "      <td>360.0</td>\n",
       "      <td>1.0</td>\n",
       "      <td>Urban</td>\n",
       "      <td>Y</td>\n",
       "    </tr>\n",
       "    <tr>\n",
       "      <th>3</th>\n",
       "      <td>LP001006</td>\n",
       "      <td>Male</td>\n",
       "      <td>Yes</td>\n",
       "      <td>0</td>\n",
       "      <td>Not Graduate</td>\n",
       "      <td>No</td>\n",
       "      <td>2583</td>\n",
       "      <td>2358.0</td>\n",
       "      <td>120.0</td>\n",
       "      <td>360.0</td>\n",
       "      <td>1.0</td>\n",
       "      <td>Urban</td>\n",
       "      <td>Y</td>\n",
       "    </tr>\n",
       "    <tr>\n",
       "      <th>4</th>\n",
       "      <td>LP001008</td>\n",
       "      <td>Male</td>\n",
       "      <td>No</td>\n",
       "      <td>0</td>\n",
       "      <td>Graduate</td>\n",
       "      <td>No</td>\n",
       "      <td>6000</td>\n",
       "      <td>0.0</td>\n",
       "      <td>141.0</td>\n",
       "      <td>360.0</td>\n",
       "      <td>1.0</td>\n",
       "      <td>Urban</td>\n",
       "      <td>Y</td>\n",
       "    </tr>\n",
       "  </tbody>\n",
       "</table>\n",
       "</div>"
      ],
      "text/plain": [
       "    Loan_ID Gender Married Dependents     Education Self_Employed  \\\n",
       "0  LP001002   Male      No          0      Graduate            No   \n",
       "1  LP001003   Male     Yes          1      Graduate            No   \n",
       "2  LP001005   Male     Yes          0      Graduate           Yes   \n",
       "3  LP001006   Male     Yes          0  Not Graduate            No   \n",
       "4  LP001008   Male      No          0      Graduate            No   \n",
       "\n",
       "   ApplicantIncome  CoapplicantIncome  LoanAmount  Loan_Amount_Term  \\\n",
       "0             5849                0.0         NaN             360.0   \n",
       "1             4583             1508.0       128.0             360.0   \n",
       "2             3000                0.0        66.0             360.0   \n",
       "3             2583             2358.0       120.0             360.0   \n",
       "4             6000                0.0       141.0             360.0   \n",
       "\n",
       "   Credit_History Property_Area Loan_Status  \n",
       "0             1.0         Urban           Y  \n",
       "1             1.0         Rural           N  \n",
       "2             1.0         Urban           Y  \n",
       "3             1.0         Urban           Y  \n",
       "4             1.0         Urban           Y  "
      ]
     },
     "execution_count": 6,
     "metadata": {},
     "output_type": "execute_result"
    }
   ],
   "source": [
    "df.head()"
   ]
  },
  {
   "cell_type": "code",
   "execution_count": 7,
   "metadata": {
    "execution": {
     "iopub.execute_input": "2021-01-26T22:09:24.007073Z",
     "iopub.status.busy": "2021-01-26T22:09:24.006488Z",
     "iopub.status.idle": "2021-01-26T22:09:24.021699Z",
     "shell.execute_reply": "2021-01-26T22:09:24.022123Z"
    },
    "papermill": {
     "duration": 0.032789,
     "end_time": "2021-01-26T22:09:24.022284",
     "exception": false,
     "start_time": "2021-01-26T22:09:23.989495",
     "status": "completed"
    },
    "tags": []
   },
   "outputs": [
    {
     "data": {
      "text/html": [
       "<div>\n",
       "<style scoped>\n",
       "    .dataframe tbody tr th:only-of-type {\n",
       "        vertical-align: middle;\n",
       "    }\n",
       "\n",
       "    .dataframe tbody tr th {\n",
       "        vertical-align: top;\n",
       "    }\n",
       "\n",
       "    .dataframe thead th {\n",
       "        text-align: right;\n",
       "    }\n",
       "</style>\n",
       "<table border=\"1\" class=\"dataframe\">\n",
       "  <thead>\n",
       "    <tr style=\"text-align: right;\">\n",
       "      <th></th>\n",
       "      <th>Loan_ID</th>\n",
       "      <th>Gender</th>\n",
       "      <th>Married</th>\n",
       "      <th>Dependents</th>\n",
       "      <th>Education</th>\n",
       "      <th>Self_Employed</th>\n",
       "      <th>ApplicantIncome</th>\n",
       "      <th>CoapplicantIncome</th>\n",
       "      <th>LoanAmount</th>\n",
       "      <th>Loan_Amount_Term</th>\n",
       "      <th>Credit_History</th>\n",
       "      <th>Property_Area</th>\n",
       "      <th>Loan_Status</th>\n",
       "    </tr>\n",
       "  </thead>\n",
       "  <tbody>\n",
       "    <tr>\n",
       "      <th>609</th>\n",
       "      <td>LP002978</td>\n",
       "      <td>Female</td>\n",
       "      <td>No</td>\n",
       "      <td>0</td>\n",
       "      <td>Graduate</td>\n",
       "      <td>No</td>\n",
       "      <td>2900</td>\n",
       "      <td>0.0</td>\n",
       "      <td>71.0</td>\n",
       "      <td>360.0</td>\n",
       "      <td>1.0</td>\n",
       "      <td>Rural</td>\n",
       "      <td>Y</td>\n",
       "    </tr>\n",
       "    <tr>\n",
       "      <th>610</th>\n",
       "      <td>LP002979</td>\n",
       "      <td>Male</td>\n",
       "      <td>Yes</td>\n",
       "      <td>3+</td>\n",
       "      <td>Graduate</td>\n",
       "      <td>No</td>\n",
       "      <td>4106</td>\n",
       "      <td>0.0</td>\n",
       "      <td>40.0</td>\n",
       "      <td>180.0</td>\n",
       "      <td>1.0</td>\n",
       "      <td>Rural</td>\n",
       "      <td>Y</td>\n",
       "    </tr>\n",
       "    <tr>\n",
       "      <th>611</th>\n",
       "      <td>LP002983</td>\n",
       "      <td>Male</td>\n",
       "      <td>Yes</td>\n",
       "      <td>1</td>\n",
       "      <td>Graduate</td>\n",
       "      <td>No</td>\n",
       "      <td>8072</td>\n",
       "      <td>240.0</td>\n",
       "      <td>253.0</td>\n",
       "      <td>360.0</td>\n",
       "      <td>1.0</td>\n",
       "      <td>Urban</td>\n",
       "      <td>Y</td>\n",
       "    </tr>\n",
       "    <tr>\n",
       "      <th>612</th>\n",
       "      <td>LP002984</td>\n",
       "      <td>Male</td>\n",
       "      <td>Yes</td>\n",
       "      <td>2</td>\n",
       "      <td>Graduate</td>\n",
       "      <td>No</td>\n",
       "      <td>7583</td>\n",
       "      <td>0.0</td>\n",
       "      <td>187.0</td>\n",
       "      <td>360.0</td>\n",
       "      <td>1.0</td>\n",
       "      <td>Urban</td>\n",
       "      <td>Y</td>\n",
       "    </tr>\n",
       "    <tr>\n",
       "      <th>613</th>\n",
       "      <td>LP002990</td>\n",
       "      <td>Female</td>\n",
       "      <td>No</td>\n",
       "      <td>0</td>\n",
       "      <td>Graduate</td>\n",
       "      <td>Yes</td>\n",
       "      <td>4583</td>\n",
       "      <td>0.0</td>\n",
       "      <td>133.0</td>\n",
       "      <td>360.0</td>\n",
       "      <td>0.0</td>\n",
       "      <td>Semiurban</td>\n",
       "      <td>N</td>\n",
       "    </tr>\n",
       "  </tbody>\n",
       "</table>\n",
       "</div>"
      ],
      "text/plain": [
       "      Loan_ID  Gender Married Dependents Education Self_Employed  \\\n",
       "609  LP002978  Female      No          0  Graduate            No   \n",
       "610  LP002979    Male     Yes         3+  Graduate            No   \n",
       "611  LP002983    Male     Yes          1  Graduate            No   \n",
       "612  LP002984    Male     Yes          2  Graduate            No   \n",
       "613  LP002990  Female      No          0  Graduate           Yes   \n",
       "\n",
       "     ApplicantIncome  CoapplicantIncome  LoanAmount  Loan_Amount_Term  \\\n",
       "609             2900                0.0        71.0             360.0   \n",
       "610             4106                0.0        40.0             180.0   \n",
       "611             8072              240.0       253.0             360.0   \n",
       "612             7583                0.0       187.0             360.0   \n",
       "613             4583                0.0       133.0             360.0   \n",
       "\n",
       "     Credit_History Property_Area Loan_Status  \n",
       "609             1.0         Rural           Y  \n",
       "610             1.0         Rural           Y  \n",
       "611             1.0         Urban           Y  \n",
       "612             1.0         Urban           Y  \n",
       "613             0.0     Semiurban           N  "
      ]
     },
     "execution_count": 7,
     "metadata": {},
     "output_type": "execute_result"
    }
   ],
   "source": [
    "df.tail()"
   ]
  },
  {
   "cell_type": "code",
   "execution_count": 8,
   "metadata": {
    "execution": {
     "iopub.execute_input": "2021-01-26T22:09:24.055124Z",
     "iopub.status.busy": "2021-01-26T22:09:24.054560Z",
     "iopub.status.idle": "2021-01-26T22:09:24.059660Z",
     "shell.execute_reply": "2021-01-26T22:09:24.060062Z"
    },
    "papermill": {
     "duration": 0.023033,
     "end_time": "2021-01-26T22:09:24.060306",
     "exception": false,
     "start_time": "2021-01-26T22:09:24.037273",
     "status": "completed"
    },
    "tags": []
   },
   "outputs": [
    {
     "data": {
      "text/plain": [
       "array(['Graduate', 'Not Graduate'], dtype=object)"
      ]
     },
     "execution_count": 8,
     "metadata": {},
     "output_type": "execute_result"
    }
   ],
   "source": [
    "df['Education'].unique()"
   ]
  },
  {
   "cell_type": "code",
   "execution_count": 9,
   "metadata": {
    "execution": {
     "iopub.execute_input": "2021-01-26T22:09:24.097107Z",
     "iopub.status.busy": "2021-01-26T22:09:24.096174Z",
     "iopub.status.idle": "2021-01-26T22:09:24.100291Z",
     "shell.execute_reply": "2021-01-26T22:09:24.099685Z"
    },
    "papermill": {
     "duration": 0.02471,
     "end_time": "2021-01-26T22:09:24.100401",
     "exception": false,
     "start_time": "2021-01-26T22:09:24.075691",
     "status": "completed"
    },
    "tags": []
   },
   "outputs": [
    {
     "data": {
      "text/plain": [
       "array([360., 120., 240.,  nan, 180.,  60., 300., 480.,  36.,  84.,  12.])"
      ]
     },
     "execution_count": 9,
     "metadata": {},
     "output_type": "execute_result"
    }
   ],
   "source": [
    "df['Loan_Amount_Term'].unique()"
   ]
  },
  {
   "cell_type": "code",
   "execution_count": 10,
   "metadata": {
    "execution": {
     "iopub.execute_input": "2021-01-26T22:09:24.138664Z",
     "iopub.status.busy": "2021-01-26T22:09:24.137417Z",
     "iopub.status.idle": "2021-01-26T22:09:24.141930Z",
     "shell.execute_reply": "2021-01-26T22:09:24.141447Z"
    },
    "papermill": {
     "duration": 0.025877,
     "end_time": "2021-01-26T22:09:24.142037",
     "exception": false,
     "start_time": "2021-01-26T22:09:24.116160",
     "status": "completed"
    },
    "tags": []
   },
   "outputs": [
    {
     "data": {
      "text/plain": [
       "array(['Urban', 'Rural', 'Semiurban'], dtype=object)"
      ]
     },
     "execution_count": 10,
     "metadata": {},
     "output_type": "execute_result"
    }
   ],
   "source": [
    "df['Property_Area'].unique()"
   ]
  },
  {
   "cell_type": "markdown",
   "metadata": {
    "papermill": {
     "duration": 0.017552,
     "end_time": "2021-01-26T22:09:24.176015",
     "exception": false,
     "start_time": "2021-01-26T22:09:24.158463",
     "status": "completed"
    },
    "tags": []
   },
   "source": [
    "Categorify is a TabularProc that replaces a column with a numeric categorical column. FillMissing is a TabularProc that replaces missing values with the median of the column, and creates a new Boolean column that is set to True for any row where the value was missing. These two transforms are needed for nearly every tabular dataset you will use, so this is a good starting point for your data processing:"
   ]
  },
  {
   "cell_type": "code",
   "execution_count": 11,
   "metadata": {
    "execution": {
     "iopub.execute_input": "2021-01-26T22:09:24.223942Z",
     "iopub.status.busy": "2021-01-26T22:09:24.222889Z",
     "iopub.status.idle": "2021-01-26T22:09:24.224985Z",
     "shell.execute_reply": "2021-01-26T22:09:24.225781Z"
    },
    "papermill": {
     "duration": 0.030249,
     "end_time": "2021-01-26T22:09:24.225992",
     "exception": false,
     "start_time": "2021-01-26T22:09:24.195743",
     "status": "completed"
    },
    "tags": []
   },
   "outputs": [],
   "source": [
    "procs = [Categorify, FillMissing, Normalize]"
   ]
  },
  {
   "cell_type": "code",
   "execution_count": 12,
   "metadata": {
    "execution": {
     "iopub.execute_input": "2021-01-26T22:09:24.278113Z",
     "iopub.status.busy": "2021-01-26T22:09:24.276412Z",
     "iopub.status.idle": "2021-01-26T22:09:24.278948Z",
     "shell.execute_reply": "2021-01-26T22:09:24.277226Z"
    },
    "papermill": {
     "duration": 0.03052,
     "end_time": "2021-01-26T22:09:24.279153",
     "exception": false,
     "start_time": "2021-01-26T22:09:24.248633",
     "status": "completed"
    },
    "tags": []
   },
   "outputs": [],
   "source": [
    "#df['Gender'] = df['Gender'].astype('category')\n",
    "#df['Gender'].cat.set_categories(df['Gender'].unique(), ordered=False, inplace=True)"
   ]
  },
  {
   "cell_type": "code",
   "execution_count": 13,
   "metadata": {
    "execution": {
     "iopub.execute_input": "2021-01-26T22:09:24.320447Z",
     "iopub.status.busy": "2021-01-26T22:09:24.319699Z",
     "iopub.status.idle": "2021-01-26T22:09:24.434962Z",
     "shell.execute_reply": "2021-01-26T22:09:24.434461Z"
    },
    "papermill": {
     "duration": 0.135271,
     "end_time": "2021-01-26T22:09:24.435074",
     "exception": false,
     "start_time": "2021-01-26T22:09:24.299803",
     "status": "completed"
    },
    "tags": []
   },
   "outputs": [],
   "source": [
    "#https://docs.fast.ai/tutorial.tabular.html\n",
    "dls=TabularDataLoaders.from_csv(path/'Loan_Train.csv', path=path, \n",
    "                                y_names='Loan_Status', #label column\n",
    "                               cat_names = ['Gender','Married','Dependents','Education','Self_Employed','Property_Area'], #category columns\n",
    "                               cont_names=['ApplicantIncome','CoapplicantIncome','LoanAmount','Loan_Amount_Term','Credit_History'],#continuous columns\n",
    "                               procs=procs)\n",
    "\n",
    "#If you get error message: TypeError: Categorical cannot perform the operation median,\n",
    "#it is most likely that you have one categorical variable flagged as continuous. \n",
    "#So when it tried to find its median value during FillMissing, it throws an error (sgugger,forum.fast.ai, 2018)."
   ]
  },
  {
   "cell_type": "code",
   "execution_count": 14,
   "metadata": {
    "execution": {
     "iopub.execute_input": "2021-01-26T22:09:24.474901Z",
     "iopub.status.busy": "2021-01-26T22:09:24.474250Z",
     "iopub.status.idle": "2021-01-26T22:09:24.514833Z",
     "shell.execute_reply": "2021-01-26T22:09:24.514258Z"
    },
    "papermill": {
     "duration": 0.063546,
     "end_time": "2021-01-26T22:09:24.514937",
     "exception": false,
     "start_time": "2021-01-26T22:09:24.451391",
     "status": "completed"
    },
    "tags": []
   },
   "outputs": [
    {
     "data": {
      "text/html": [
       "<table border=\"1\" class=\"dataframe\">\n",
       "  <thead>\n",
       "    <tr style=\"text-align: right;\">\n",
       "      <th></th>\n",
       "      <th>Gender</th>\n",
       "      <th>Married</th>\n",
       "      <th>Dependents</th>\n",
       "      <th>Education</th>\n",
       "      <th>Self_Employed</th>\n",
       "      <th>Property_Area</th>\n",
       "      <th>LoanAmount_na</th>\n",
       "      <th>Loan_Amount_Term_na</th>\n",
       "      <th>Credit_History_na</th>\n",
       "      <th>ApplicantIncome</th>\n",
       "      <th>CoapplicantIncome</th>\n",
       "      <th>LoanAmount</th>\n",
       "      <th>Loan_Amount_Term</th>\n",
       "      <th>Credit_History</th>\n",
       "      <th>Loan_Status</th>\n",
       "    </tr>\n",
       "  </thead>\n",
       "  <tbody>\n",
       "    <tr>\n",
       "      <th>0</th>\n",
       "      <td>Male</td>\n",
       "      <td>No</td>\n",
       "      <td>0</td>\n",
       "      <td>Not Graduate</td>\n",
       "      <td>No</td>\n",
       "      <td>Semiurban</td>\n",
       "      <td>False</td>\n",
       "      <td>False</td>\n",
       "      <td>False</td>\n",
       "      <td>3747.999928</td>\n",
       "      <td>1668.000001</td>\n",
       "      <td>109.999999</td>\n",
       "      <td>360.000001</td>\n",
       "      <td>1.0</td>\n",
       "      <td>Y</td>\n",
       "    </tr>\n",
       "    <tr>\n",
       "      <th>1</th>\n",
       "      <td>Male</td>\n",
       "      <td>No</td>\n",
       "      <td>0</td>\n",
       "      <td>Not Graduate</td>\n",
       "      <td>Yes</td>\n",
       "      <td>Semiurban</td>\n",
       "      <td>False</td>\n",
       "      <td>False</td>\n",
       "      <td>False</td>\n",
       "      <td>5799.999978</td>\n",
       "      <td>-0.000069</td>\n",
       "      <td>132.000000</td>\n",
       "      <td>360.000001</td>\n",
       "      <td>1.0</td>\n",
       "      <td>Y</td>\n",
       "    </tr>\n",
       "    <tr>\n",
       "      <th>2</th>\n",
       "      <td>Female</td>\n",
       "      <td>No</td>\n",
       "      <td>0</td>\n",
       "      <td>Not Graduate</td>\n",
       "      <td>No</td>\n",
       "      <td>Semiurban</td>\n",
       "      <td>False</td>\n",
       "      <td>False</td>\n",
       "      <td>False</td>\n",
       "      <td>1962.999852</td>\n",
       "      <td>-0.000069</td>\n",
       "      <td>52.999997</td>\n",
       "      <td>360.000001</td>\n",
       "      <td>1.0</td>\n",
       "      <td>Y</td>\n",
       "    </tr>\n",
       "    <tr>\n",
       "      <th>3</th>\n",
       "      <td>Male</td>\n",
       "      <td>Yes</td>\n",
       "      <td>2</td>\n",
       "      <td>Graduate</td>\n",
       "      <td>No</td>\n",
       "      <td>Semiurban</td>\n",
       "      <td>False</td>\n",
       "      <td>False</td>\n",
       "      <td>False</td>\n",
       "      <td>6699.999982</td>\n",
       "      <td>1749.999996</td>\n",
       "      <td>230.000000</td>\n",
       "      <td>300.000000</td>\n",
       "      <td>1.0</td>\n",
       "      <td>Y</td>\n",
       "    </tr>\n",
       "    <tr>\n",
       "      <th>4</th>\n",
       "      <td>Male</td>\n",
       "      <td>Yes</td>\n",
       "      <td>0</td>\n",
       "      <td>Graduate</td>\n",
       "      <td>No</td>\n",
       "      <td>Rural</td>\n",
       "      <td>False</td>\n",
       "      <td>False</td>\n",
       "      <td>False</td>\n",
       "      <td>7900.999982</td>\n",
       "      <td>1833.000006</td>\n",
       "      <td>180.000001</td>\n",
       "      <td>360.000001</td>\n",
       "      <td>1.0</td>\n",
       "      <td>Y</td>\n",
       "    </tr>\n",
       "    <tr>\n",
       "      <th>5</th>\n",
       "      <td>Male</td>\n",
       "      <td>No</td>\n",
       "      <td>0</td>\n",
       "      <td>Graduate</td>\n",
       "      <td>No</td>\n",
       "      <td>Urban</td>\n",
       "      <td>False</td>\n",
       "      <td>False</td>\n",
       "      <td>False</td>\n",
       "      <td>1799.999976</td>\n",
       "      <td>1212.999988</td>\n",
       "      <td>46.999998</td>\n",
       "      <td>360.000001</td>\n",
       "      <td>1.0</td>\n",
       "      <td>Y</td>\n",
       "    </tr>\n",
       "    <tr>\n",
       "      <th>6</th>\n",
       "      <td>Male</td>\n",
       "      <td>No</td>\n",
       "      <td>0</td>\n",
       "      <td>Graduate</td>\n",
       "      <td>No</td>\n",
       "      <td>Urban</td>\n",
       "      <td>False</td>\n",
       "      <td>False</td>\n",
       "      <td>False</td>\n",
       "      <td>3749.999918</td>\n",
       "      <td>-0.000069</td>\n",
       "      <td>113.000001</td>\n",
       "      <td>479.999996</td>\n",
       "      <td>1.0</td>\n",
       "      <td>N</td>\n",
       "    </tr>\n",
       "    <tr>\n",
       "      <th>7</th>\n",
       "      <td>Male</td>\n",
       "      <td>Yes</td>\n",
       "      <td>1</td>\n",
       "      <td>Graduate</td>\n",
       "      <td>#na#</td>\n",
       "      <td>Semiurban</td>\n",
       "      <td>False</td>\n",
       "      <td>False</td>\n",
       "      <td>True</td>\n",
       "      <td>3716.999980</td>\n",
       "      <td>2924.999976</td>\n",
       "      <td>151.000000</td>\n",
       "      <td>360.000001</td>\n",
       "      <td>1.0</td>\n",
       "      <td>N</td>\n",
       "    </tr>\n",
       "    <tr>\n",
       "      <th>8</th>\n",
       "      <td>Male</td>\n",
       "      <td>Yes</td>\n",
       "      <td>2</td>\n",
       "      <td>Graduate</td>\n",
       "      <td>No</td>\n",
       "      <td>Urban</td>\n",
       "      <td>False</td>\n",
       "      <td>False</td>\n",
       "      <td>False</td>\n",
       "      <td>4565.999996</td>\n",
       "      <td>-0.000069</td>\n",
       "      <td>100.000001</td>\n",
       "      <td>360.000001</td>\n",
       "      <td>1.0</td>\n",
       "      <td>N</td>\n",
       "    </tr>\n",
       "    <tr>\n",
       "      <th>9</th>\n",
       "      <td>#na#</td>\n",
       "      <td>Yes</td>\n",
       "      <td>0</td>\n",
       "      <td>Graduate</td>\n",
       "      <td>No</td>\n",
       "      <td>Rural</td>\n",
       "      <td>False</td>\n",
       "      <td>False</td>\n",
       "      <td>False</td>\n",
       "      <td>2472.999999</td>\n",
       "      <td>1842.999991</td>\n",
       "      <td>159.000000</td>\n",
       "      <td>360.000001</td>\n",
       "      <td>1.0</td>\n",
       "      <td>N</td>\n",
       "    </tr>\n",
       "  </tbody>\n",
       "</table>"
      ],
      "text/plain": [
       "<IPython.core.display.HTML object>"
      ]
     },
     "metadata": {},
     "output_type": "display_data"
    }
   ],
   "source": [
    "#The show_batch method works like for every other application:\n",
    "dls.show_batch()"
   ]
  },
  {
   "cell_type": "code",
   "execution_count": 15,
   "metadata": {
    "execution": {
     "iopub.execute_input": "2021-01-26T22:09:24.553652Z",
     "iopub.status.busy": "2021-01-26T22:09:24.552766Z",
     "iopub.status.idle": "2021-01-26T22:09:24.555637Z",
     "shell.execute_reply": "2021-01-26T22:09:24.555178Z"
    },
    "papermill": {
     "duration": 0.0237,
     "end_time": "2021-01-26T22:09:24.555735",
     "exception": false,
     "start_time": "2021-01-26T22:09:24.532035",
     "status": "completed"
    },
    "tags": []
   },
   "outputs": [],
   "source": [
    "#splits=RandomSplitter(valid_pct=0.2)"
   ]
  },
  {
   "cell_type": "code",
   "execution_count": 16,
   "metadata": {
    "execution": {
     "iopub.execute_input": "2021-01-26T22:09:24.593191Z",
     "iopub.status.busy": "2021-01-26T22:09:24.592625Z",
     "iopub.status.idle": "2021-01-26T22:09:24.605534Z",
     "shell.execute_reply": "2021-01-26T22:09:24.605960Z"
    },
    "papermill": {
     "duration": 0.033051,
     "end_time": "2021-01-26T22:09:24.606090",
     "exception": false,
     "start_time": "2021-01-26T22:09:24.573039",
     "status": "completed"
    },
    "tags": []
   },
   "outputs": [
    {
     "data": {
      "text/html": [
       "<div>\n",
       "<style scoped>\n",
       "    .dataframe tbody tr th:only-of-type {\n",
       "        vertical-align: middle;\n",
       "    }\n",
       "\n",
       "    .dataframe tbody tr th {\n",
       "        vertical-align: top;\n",
       "    }\n",
       "\n",
       "    .dataframe thead th {\n",
       "        text-align: right;\n",
       "    }\n",
       "</style>\n",
       "<table border=\"1\" class=\"dataframe\">\n",
       "  <thead>\n",
       "    <tr style=\"text-align: right;\">\n",
       "      <th></th>\n",
       "      <th>Gender</th>\n",
       "      <th>Married</th>\n",
       "      <th>Dependents</th>\n",
       "      <th>Education</th>\n",
       "      <th>Self_Employed</th>\n",
       "      <th>Property_Area</th>\n",
       "      <th>LoanAmount_na</th>\n",
       "      <th>Loan_Amount_Term_na</th>\n",
       "      <th>Credit_History_na</th>\n",
       "      <th>ApplicantIncome</th>\n",
       "      <th>CoapplicantIncome</th>\n",
       "      <th>LoanAmount</th>\n",
       "      <th>Loan_Amount_Term</th>\n",
       "      <th>Credit_History</th>\n",
       "    </tr>\n",
       "  </thead>\n",
       "  <tbody>\n",
       "    <tr>\n",
       "      <th>499</th>\n",
       "      <td>2</td>\n",
       "      <td>1</td>\n",
       "      <td>1</td>\n",
       "      <td>1</td>\n",
       "      <td>1</td>\n",
       "      <td>1</td>\n",
       "      <td>1</td>\n",
       "      <td>1</td>\n",
       "      <td>1</td>\n",
       "      <td>0.16898</td>\n",
       "      <td>1.028602</td>\n",
       "      <td>0.867840</td>\n",
       "      <td>0.276644</td>\n",
       "      <td>-2.395774</td>\n",
       "    </tr>\n",
       "    <tr>\n",
       "      <th>97</th>\n",
       "      <td>2</td>\n",
       "      <td>2</td>\n",
       "      <td>1</td>\n",
       "      <td>1</td>\n",
       "      <td>1</td>\n",
       "      <td>2</td>\n",
       "      <td>1</td>\n",
       "      <td>1</td>\n",
       "      <td>1</td>\n",
       "      <td>-0.56115</td>\n",
       "      <td>-0.214126</td>\n",
       "      <td>-1.206258</td>\n",
       "      <td>0.276644</td>\n",
       "      <td>0.417402</td>\n",
       "    </tr>\n",
       "  </tbody>\n",
       "</table>\n",
       "</div>"
      ],
      "text/plain": [
       "     Gender  Married  Dependents  Education  Self_Employed  Property_Area  \\\n",
       "499       2        1           1          1              1              1   \n",
       "97        2        2           1          1              1              2   \n",
       "\n",
       "     LoanAmount_na  Loan_Amount_Term_na  Credit_History_na  ApplicantIncome  \\\n",
       "499              1                    1                  1          0.16898   \n",
       "97               1                    1                  1         -0.56115   \n",
       "\n",
       "     CoapplicantIncome  LoanAmount  Loan_Amount_Term  Credit_History  \n",
       "499           1.028602    0.867840          0.276644       -2.395774  \n",
       "97           -0.214126   -1.206258          0.276644        0.417402  "
      ]
     },
     "execution_count": 16,
     "metadata": {},
     "output_type": "execute_result"
    }
   ],
   "source": [
    "dls.xs.iloc[:2]"
   ]
  },
  {
   "cell_type": "code",
   "execution_count": 17,
   "metadata": {
    "execution": {
     "iopub.execute_input": "2021-01-26T22:09:24.646717Z",
     "iopub.status.busy": "2021-01-26T22:09:24.646145Z",
     "iopub.status.idle": "2021-01-26T22:09:24.677727Z",
     "shell.execute_reply": "2021-01-26T22:09:24.677205Z"
    },
    "papermill": {
     "duration": 0.053901,
     "end_time": "2021-01-26T22:09:24.677835",
     "exception": false,
     "start_time": "2021-01-26T22:09:24.623934",
     "status": "completed"
    },
    "tags": []
   },
   "outputs": [],
   "source": [
    "#We can define a model using the tabular_learner method. When we define our model, fastai will try to infer the loss function based on our y_names earlier.\n",
    "learn=tabular_learner(dls, metrics=accuracy)"
   ]
  },
  {
   "cell_type": "code",
   "execution_count": 18,
   "metadata": {
    "execution": {
     "iopub.execute_input": "2021-01-26T22:09:24.720458Z",
     "iopub.status.busy": "2021-01-26T22:09:24.719849Z",
     "iopub.status.idle": "2021-01-26T22:09:24.976732Z",
     "shell.execute_reply": "2021-01-26T22:09:24.976235Z"
    },
    "papermill": {
     "duration": 0.280851,
     "end_time": "2021-01-26T22:09:24.976840",
     "exception": false,
     "start_time": "2021-01-26T22:09:24.695989",
     "status": "completed"
    },
    "tags": []
   },
   "outputs": [
    {
     "data": {
      "text/html": [
       "<table border=\"1\" class=\"dataframe\">\n",
       "  <thead>\n",
       "    <tr style=\"text-align: left;\">\n",
       "      <th>epoch</th>\n",
       "      <th>train_loss</th>\n",
       "      <th>valid_loss</th>\n",
       "      <th>accuracy</th>\n",
       "      <th>time</th>\n",
       "    </tr>\n",
       "  </thead>\n",
       "  <tbody>\n",
       "    <tr>\n",
       "      <td>0</td>\n",
       "      <td>0.658113</td>\n",
       "      <td>0.651958</td>\n",
       "      <td>0.827869</td>\n",
       "      <td>00:00</td>\n",
       "    </tr>\n",
       "  </tbody>\n",
       "</table>"
      ],
      "text/plain": [
       "<IPython.core.display.HTML object>"
      ]
     },
     "metadata": {},
     "output_type": "display_data"
    }
   ],
   "source": [
    "#And we can train that model with the fit_one_cycle method (the fine_tune method won't be useful here since we don't have a pretrained model).\n",
    "learn.fit_one_cycle(1)"
   ]
  },
  {
   "cell_type": "code",
   "execution_count": 19,
   "metadata": {
    "execution": {
     "iopub.execute_input": "2021-01-26T22:09:25.024037Z",
     "iopub.status.busy": "2021-01-26T22:09:25.021191Z",
     "iopub.status.idle": "2021-01-26T22:09:25.060795Z",
     "shell.execute_reply": "2021-01-26T22:09:25.060116Z"
    },
    "papermill": {
     "duration": 0.062758,
     "end_time": "2021-01-26T22:09:25.060941",
     "exception": false,
     "start_time": "2021-01-26T22:09:24.998183",
     "status": "completed"
    },
    "tags": []
   },
   "outputs": [
    {
     "data": {
      "text/html": [],
      "text/plain": [
       "<IPython.core.display.HTML object>"
      ]
     },
     "metadata": {},
     "output_type": "display_data"
    },
    {
     "data": {
      "text/html": [
       "<table border=\"1\" class=\"dataframe\">\n",
       "  <thead>\n",
       "    <tr style=\"text-align: right;\">\n",
       "      <th></th>\n",
       "      <th>Gender</th>\n",
       "      <th>Married</th>\n",
       "      <th>Dependents</th>\n",
       "      <th>Education</th>\n",
       "      <th>Self_Employed</th>\n",
       "      <th>Property_Area</th>\n",
       "      <th>LoanAmount_na</th>\n",
       "      <th>Loan_Amount_Term_na</th>\n",
       "      <th>Credit_History_na</th>\n",
       "      <th>ApplicantIncome</th>\n",
       "      <th>CoapplicantIncome</th>\n",
       "      <th>LoanAmount</th>\n",
       "      <th>Loan_Amount_Term</th>\n",
       "      <th>Credit_History</th>\n",
       "      <th>Loan_Status</th>\n",
       "      <th>Loan_Status_pred</th>\n",
       "    </tr>\n",
       "  </thead>\n",
       "  <tbody>\n",
       "    <tr>\n",
       "      <th>0</th>\n",
       "      <td>2.0</td>\n",
       "      <td>1.0</td>\n",
       "      <td>1.0</td>\n",
       "      <td>1.0</td>\n",
       "      <td>1.0</td>\n",
       "      <td>3.0</td>\n",
       "      <td>1.0</td>\n",
       "      <td>1.0</td>\n",
       "      <td>1.0</td>\n",
       "      <td>0.022140</td>\n",
       "      <td>-0.576513</td>\n",
       "      <td>0.333009</td>\n",
       "      <td>0.276644</td>\n",
       "      <td>0.417402</td>\n",
       "      <td>1.0</td>\n",
       "      <td>1.0</td>\n",
       "    </tr>\n",
       "    <tr>\n",
       "      <th>1</th>\n",
       "      <td>2.0</td>\n",
       "      <td>2.0</td>\n",
       "      <td>2.0</td>\n",
       "      <td>1.0</td>\n",
       "      <td>1.0</td>\n",
       "      <td>3.0</td>\n",
       "      <td>1.0</td>\n",
       "      <td>1.0</td>\n",
       "      <td>2.0</td>\n",
       "      <td>0.135068</td>\n",
       "      <td>0.968265</td>\n",
       "      <td>2.446241</td>\n",
       "      <td>0.276644</td>\n",
       "      <td>0.417402</td>\n",
       "      <td>1.0</td>\n",
       "      <td>1.0</td>\n",
       "    </tr>\n",
       "    <tr>\n",
       "      <th>2</th>\n",
       "      <td>0.0</td>\n",
       "      <td>1.0</td>\n",
       "      <td>1.0</td>\n",
       "      <td>1.0</td>\n",
       "      <td>1.0</td>\n",
       "      <td>3.0</td>\n",
       "      <td>1.0</td>\n",
       "      <td>1.0</td>\n",
       "      <td>1.0</td>\n",
       "      <td>-0.288835</td>\n",
       "      <td>-0.576513</td>\n",
       "      <td>-0.606204</td>\n",
       "      <td>0.276644</td>\n",
       "      <td>0.417402</td>\n",
       "      <td>0.0</td>\n",
       "      <td>1.0</td>\n",
       "    </tr>\n",
       "    <tr>\n",
       "      <th>3</th>\n",
       "      <td>1.0</td>\n",
       "      <td>1.0</td>\n",
       "      <td>2.0</td>\n",
       "      <td>2.0</td>\n",
       "      <td>2.0</td>\n",
       "      <td>2.0</td>\n",
       "      <td>1.0</td>\n",
       "      <td>1.0</td>\n",
       "      <td>1.0</td>\n",
       "      <td>-0.240679</td>\n",
       "      <td>-0.576513</td>\n",
       "      <td>-1.049722</td>\n",
       "      <td>0.276644</td>\n",
       "      <td>0.417402</td>\n",
       "      <td>0.0</td>\n",
       "      <td>1.0</td>\n",
       "    </tr>\n",
       "    <tr>\n",
       "      <th>4</th>\n",
       "      <td>1.0</td>\n",
       "      <td>0.0</td>\n",
       "      <td>0.0</td>\n",
       "      <td>1.0</td>\n",
       "      <td>1.0</td>\n",
       "      <td>2.0</td>\n",
       "      <td>2.0</td>\n",
       "      <td>1.0</td>\n",
       "      <td>1.0</td>\n",
       "      <td>0.807208</td>\n",
       "      <td>-0.576513</td>\n",
       "      <td>-0.195298</td>\n",
       "      <td>-1.605912</td>\n",
       "      <td>0.417402</td>\n",
       "      <td>1.0</td>\n",
       "      <td>1.0</td>\n",
       "    </tr>\n",
       "    <tr>\n",
       "      <th>5</th>\n",
       "      <td>2.0</td>\n",
       "      <td>1.0</td>\n",
       "      <td>1.0</td>\n",
       "      <td>1.0</td>\n",
       "      <td>1.0</td>\n",
       "      <td>3.0</td>\n",
       "      <td>1.0</td>\n",
       "      <td>1.0</td>\n",
       "      <td>1.0</td>\n",
       "      <td>0.005015</td>\n",
       "      <td>-0.576513</td>\n",
       "      <td>-0.084419</td>\n",
       "      <td>0.276644</td>\n",
       "      <td>0.417402</td>\n",
       "      <td>1.0</td>\n",
       "      <td>1.0</td>\n",
       "    </tr>\n",
       "    <tr>\n",
       "      <th>6</th>\n",
       "      <td>2.0</td>\n",
       "      <td>1.0</td>\n",
       "      <td>1.0</td>\n",
       "      <td>2.0</td>\n",
       "      <td>1.0</td>\n",
       "      <td>3.0</td>\n",
       "      <td>1.0</td>\n",
       "      <td>1.0</td>\n",
       "      <td>1.0</td>\n",
       "      <td>-0.353776</td>\n",
       "      <td>0.242764</td>\n",
       "      <td>-0.214865</td>\n",
       "      <td>-2.547191</td>\n",
       "      <td>-2.395774</td>\n",
       "      <td>0.0</td>\n",
       "      <td>0.0</td>\n",
       "    </tr>\n",
       "    <tr>\n",
       "      <th>7</th>\n",
       "      <td>2.0</td>\n",
       "      <td>1.0</td>\n",
       "      <td>1.0</td>\n",
       "      <td>1.0</td>\n",
       "      <td>1.0</td>\n",
       "      <td>1.0</td>\n",
       "      <td>1.0</td>\n",
       "      <td>1.0</td>\n",
       "      <td>1.0</td>\n",
       "      <td>-0.273065</td>\n",
       "      <td>0.986802</td>\n",
       "      <td>0.385188</td>\n",
       "      <td>0.276644</td>\n",
       "      <td>0.417402</td>\n",
       "      <td>1.0</td>\n",
       "      <td>1.0</td>\n",
       "    </tr>\n",
       "    <tr>\n",
       "      <th>8</th>\n",
       "      <td>2.0</td>\n",
       "      <td>1.0</td>\n",
       "      <td>1.0</td>\n",
       "      <td>2.0</td>\n",
       "      <td>1.0</td>\n",
       "      <td>1.0</td>\n",
       "      <td>1.0</td>\n",
       "      <td>1.0</td>\n",
       "      <td>1.0</td>\n",
       "      <td>-0.222367</td>\n",
       "      <td>0.343448</td>\n",
       "      <td>-1.141034</td>\n",
       "      <td>0.276644</td>\n",
       "      <td>0.417402</td>\n",
       "      <td>1.0</td>\n",
       "      <td>1.0</td>\n",
       "    </tr>\n",
       "  </tbody>\n",
       "</table>"
      ],
      "text/plain": [
       "<IPython.core.display.HTML object>"
      ]
     },
     "metadata": {},
     "output_type": "display_data"
    }
   ],
   "source": [
    "#We can then have a look at some predictions:\n",
    "learn.show_results()"
   ]
  },
  {
   "cell_type": "code",
   "execution_count": 20,
   "metadata": {
    "execution": {
     "iopub.execute_input": "2021-01-26T22:09:25.119490Z",
     "iopub.status.busy": "2021-01-26T22:09:25.118547Z",
     "iopub.status.idle": "2021-01-26T22:09:25.169670Z",
     "shell.execute_reply": "2021-01-26T22:09:25.168858Z"
    },
    "papermill": {
     "duration": 0.081755,
     "end_time": "2021-01-26T22:09:25.169821",
     "exception": false,
     "start_time": "2021-01-26T22:09:25.088066",
     "status": "completed"
    },
    "tags": []
   },
   "outputs": [
    {
     "data": {
      "text/html": [],
      "text/plain": [
       "<IPython.core.display.HTML object>"
      ]
     },
     "metadata": {},
     "output_type": "display_data"
    }
   ],
   "source": [
    "#Or use the predict method on a row:\n",
    "row, clas, probs = learn.predict(df.iloc[0])"
   ]
  },
  {
   "cell_type": "code",
   "execution_count": 21,
   "metadata": {
    "execution": {
     "iopub.execute_input": "2021-01-26T22:09:25.238083Z",
     "iopub.status.busy": "2021-01-26T22:09:25.237124Z",
     "iopub.status.idle": "2021-01-26T22:09:25.248271Z",
     "shell.execute_reply": "2021-01-26T22:09:25.248704Z"
    },
    "papermill": {
     "duration": 0.05345,
     "end_time": "2021-01-26T22:09:25.248845",
     "exception": false,
     "start_time": "2021-01-26T22:09:25.195395",
     "status": "completed"
    },
    "tags": []
   },
   "outputs": [
    {
     "data": {
      "text/html": [
       "<table border=\"1\" class=\"dataframe\">\n",
       "  <thead>\n",
       "    <tr style=\"text-align: right;\">\n",
       "      <th></th>\n",
       "      <th>Gender</th>\n",
       "      <th>Married</th>\n",
       "      <th>Dependents</th>\n",
       "      <th>Education</th>\n",
       "      <th>Self_Employed</th>\n",
       "      <th>Property_Area</th>\n",
       "      <th>LoanAmount_na</th>\n",
       "      <th>Loan_Amount_Term_na</th>\n",
       "      <th>Credit_History_na</th>\n",
       "      <th>ApplicantIncome</th>\n",
       "      <th>CoapplicantIncome</th>\n",
       "      <th>LoanAmount</th>\n",
       "      <th>Loan_Amount_Term</th>\n",
       "      <th>Credit_History</th>\n",
       "      <th>Loan_Status</th>\n",
       "    </tr>\n",
       "  </thead>\n",
       "  <tbody>\n",
       "    <tr>\n",
       "      <th>0</th>\n",
       "      <td>Male</td>\n",
       "      <td>No</td>\n",
       "      <td>0</td>\n",
       "      <td>Graduate</td>\n",
       "      <td>No</td>\n",
       "      <td>Urban</td>\n",
       "      <td>True</td>\n",
       "      <td>False</td>\n",
       "      <td>False</td>\n",
       "      <td>5849.00002</td>\n",
       "      <td>-0.000069</td>\n",
       "      <td>127.5</td>\n",
       "      <td>360.000001</td>\n",
       "      <td>1.0</td>\n",
       "      <td>Y</td>\n",
       "    </tr>\n",
       "  </tbody>\n",
       "</table>"
      ],
      "text/plain": [
       "<IPython.core.display.HTML object>"
      ]
     },
     "metadata": {},
     "output_type": "display_data"
    }
   ],
   "source": [
    "row.show()"
   ]
  },
  {
   "cell_type": "code",
   "execution_count": 22,
   "metadata": {
    "execution": {
     "iopub.execute_input": "2021-01-26T22:09:25.293756Z",
     "iopub.status.busy": "2021-01-26T22:09:25.293186Z",
     "iopub.status.idle": "2021-01-26T22:09:25.305500Z",
     "shell.execute_reply": "2021-01-26T22:09:25.304984Z"
    },
    "papermill": {
     "duration": 0.036562,
     "end_time": "2021-01-26T22:09:25.305620",
     "exception": false,
     "start_time": "2021-01-26T22:09:25.269058",
     "status": "completed"
    },
    "tags": []
   },
   "outputs": [
    {
     "data": {
      "text/plain": [
       "(tensor(1), tensor([0.4643, 0.5357]))"
      ]
     },
     "execution_count": 22,
     "metadata": {},
     "output_type": "execute_result"
    }
   ],
   "source": [
    "clas, probs"
   ]
  },
  {
   "cell_type": "code",
   "execution_count": 23,
   "metadata": {
    "execution": {
     "iopub.execute_input": "2021-01-26T22:09:25.349504Z",
     "iopub.status.busy": "2021-01-26T22:09:25.348918Z",
     "iopub.status.idle": "2021-01-26T22:09:25.374841Z",
     "shell.execute_reply": "2021-01-26T22:09:25.375275Z"
    },
    "papermill": {
     "duration": 0.049194,
     "end_time": "2021-01-26T22:09:25.375418",
     "exception": false,
     "start_time": "2021-01-26T22:09:25.326224",
     "status": "completed"
    },
    "tags": []
   },
   "outputs": [],
   "source": [
    "#To get prediction on a new dataframe, you can use the test_dl method of the DataLoaders. \n",
    "#That dataframe does not need to have the dependent variable in its column.\n",
    "test_df=df.copy()\n",
    "test_df.drop(['Loan_Status'], axis=1, inplace=True)\n",
    "\n",
    "dl=learn.dls.test_dl(test_df)"
   ]
  },
  {
   "cell_type": "code",
   "execution_count": 24,
   "metadata": {
    "execution": {
     "iopub.execute_input": "2021-01-26T22:09:25.419575Z",
     "iopub.status.busy": "2021-01-26T22:09:25.418979Z",
     "iopub.status.idle": "2021-01-26T22:09:25.489546Z",
     "shell.execute_reply": "2021-01-26T22:09:25.490156Z"
    },
    "papermill": {
     "duration": 0.094254,
     "end_time": "2021-01-26T22:09:25.490324",
     "exception": false,
     "start_time": "2021-01-26T22:09:25.396070",
     "status": "completed"
    },
    "tags": []
   },
   "outputs": [
    {
     "data": {
      "text/html": [],
      "text/plain": [
       "<IPython.core.display.HTML object>"
      ]
     },
     "metadata": {},
     "output_type": "display_data"
    },
    {
     "data": {
      "text/plain": [
       "(tensor([[0.4643, 0.5357],\n",
       "         [0.4603, 0.5397],\n",
       "         [0.4640, 0.5360],\n",
       "         ...,\n",
       "         [0.4621, 0.5379],\n",
       "         [0.4640, 0.5360],\n",
       "         [0.5086, 0.4914]]),\n",
       " None)"
      ]
     },
     "execution_count": 24,
     "metadata": {},
     "output_type": "execute_result"
    }
   ],
   "source": [
    "#Then Learner.get_preds will give you the predictions:\n",
    "learn.get_preds(dl=dl)"
   ]
  },
  {
   "cell_type": "code",
   "execution_count": 25,
   "metadata": {
    "execution": {
     "iopub.execute_input": "2021-01-26T22:09:25.540942Z",
     "iopub.status.busy": "2021-01-26T22:09:25.540039Z",
     "iopub.status.idle": "2021-01-26T22:09:27.014852Z",
     "shell.execute_reply": "2021-01-26T22:09:27.015294Z"
    },
    "papermill": {
     "duration": 1.499287,
     "end_time": "2021-01-26T22:09:27.015450",
     "exception": false,
     "start_time": "2021-01-26T22:09:25.516163",
     "status": "completed"
    },
    "tags": []
   },
   "outputs": [
    {
     "data": {
      "text/html": [
       "<table border=\"1\" class=\"dataframe\">\n",
       "  <thead>\n",
       "    <tr style=\"text-align: left;\">\n",
       "      <th>epoch</th>\n",
       "      <th>train_loss</th>\n",
       "      <th>valid_loss</th>\n",
       "      <th>accuracy</th>\n",
       "      <th>time</th>\n",
       "    </tr>\n",
       "  </thead>\n",
       "  <tbody>\n",
       "    <tr>\n",
       "      <td>0</td>\n",
       "      <td>0.710477</td>\n",
       "      <td>0.691967</td>\n",
       "      <td>0.393443</td>\n",
       "      <td>00:00</td>\n",
       "    </tr>\n",
       "    <tr>\n",
       "      <td>1</td>\n",
       "      <td>0.674749</td>\n",
       "      <td>0.651306</td>\n",
       "      <td>0.827869</td>\n",
       "      <td>00:00</td>\n",
       "    </tr>\n",
       "    <tr>\n",
       "      <td>2</td>\n",
       "      <td>0.621014</td>\n",
       "      <td>0.565955</td>\n",
       "      <td>0.819672</td>\n",
       "      <td>00:00</td>\n",
       "    </tr>\n",
       "    <tr>\n",
       "      <td>3</td>\n",
       "      <td>0.577503</td>\n",
       "      <td>0.503491</td>\n",
       "      <td>0.827869</td>\n",
       "      <td>00:00</td>\n",
       "    </tr>\n",
       "    <tr>\n",
       "      <td>4</td>\n",
       "      <td>0.540219</td>\n",
       "      <td>0.469949</td>\n",
       "      <td>0.836066</td>\n",
       "      <td>00:00</td>\n",
       "    </tr>\n",
       "    <tr>\n",
       "      <td>5</td>\n",
       "      <td>0.511462</td>\n",
       "      <td>0.457074</td>\n",
       "      <td>0.844262</td>\n",
       "      <td>00:00</td>\n",
       "    </tr>\n",
       "    <tr>\n",
       "      <td>6</td>\n",
       "      <td>0.491505</td>\n",
       "      <td>0.451468</td>\n",
       "      <td>0.836066</td>\n",
       "      <td>00:00</td>\n",
       "    </tr>\n",
       "    <tr>\n",
       "      <td>7</td>\n",
       "      <td>0.475469</td>\n",
       "      <td>0.447091</td>\n",
       "      <td>0.836066</td>\n",
       "      <td>00:00</td>\n",
       "    </tr>\n",
       "    <tr>\n",
       "      <td>8</td>\n",
       "      <td>0.461398</td>\n",
       "      <td>0.443117</td>\n",
       "      <td>0.827869</td>\n",
       "      <td>00:00</td>\n",
       "    </tr>\n",
       "    <tr>\n",
       "      <td>9</td>\n",
       "      <td>0.450455</td>\n",
       "      <td>0.440873</td>\n",
       "      <td>0.827869</td>\n",
       "      <td>00:00</td>\n",
       "    </tr>\n",
       "  </tbody>\n",
       "</table>"
      ],
      "text/plain": [
       "<IPython.core.display.HTML object>"
      ]
     },
     "metadata": {},
     "output_type": "display_data"
    }
   ],
   "source": [
    "#training more cycles\n",
    "learn_2 = tabular_learner(dls, metrics=accuracy)\n",
    "learn_2.fit_one_cycle(10)"
   ]
  },
  {
   "cell_type": "code",
   "execution_count": 26,
   "metadata": {
    "execution": {
     "iopub.execute_input": "2021-01-26T22:09:27.063184Z",
     "iopub.status.busy": "2021-01-26T22:09:27.062277Z",
     "iopub.status.idle": "2021-01-26T22:09:27.097306Z",
     "shell.execute_reply": "2021-01-26T22:09:27.097709Z"
    },
    "papermill": {
     "duration": 0.060479,
     "end_time": "2021-01-26T22:09:27.097849",
     "exception": false,
     "start_time": "2021-01-26T22:09:27.037370",
     "status": "completed"
    },
    "tags": []
   },
   "outputs": [
    {
     "data": {
      "text/html": [],
      "text/plain": [
       "<IPython.core.display.HTML object>"
      ]
     },
     "metadata": {},
     "output_type": "display_data"
    },
    {
     "data": {
      "text/html": [
       "<table border=\"1\" class=\"dataframe\">\n",
       "  <thead>\n",
       "    <tr style=\"text-align: right;\">\n",
       "      <th></th>\n",
       "      <th>Gender</th>\n",
       "      <th>Married</th>\n",
       "      <th>Dependents</th>\n",
       "      <th>Education</th>\n",
       "      <th>Self_Employed</th>\n",
       "      <th>Property_Area</th>\n",
       "      <th>LoanAmount_na</th>\n",
       "      <th>Loan_Amount_Term_na</th>\n",
       "      <th>Credit_History_na</th>\n",
       "      <th>ApplicantIncome</th>\n",
       "      <th>CoapplicantIncome</th>\n",
       "      <th>LoanAmount</th>\n",
       "      <th>Loan_Amount_Term</th>\n",
       "      <th>Credit_History</th>\n",
       "      <th>Loan_Status</th>\n",
       "      <th>Loan_Status_pred</th>\n",
       "    </tr>\n",
       "  </thead>\n",
       "  <tbody>\n",
       "    <tr>\n",
       "      <th>0</th>\n",
       "      <td>2.0</td>\n",
       "      <td>1.0</td>\n",
       "      <td>1.0</td>\n",
       "      <td>1.0</td>\n",
       "      <td>1.0</td>\n",
       "      <td>1.0</td>\n",
       "      <td>1.0</td>\n",
       "      <td>1.0</td>\n",
       "      <td>1.0</td>\n",
       "      <td>-0.273065</td>\n",
       "      <td>0.986802</td>\n",
       "      <td>0.385188</td>\n",
       "      <td>0.276644</td>\n",
       "      <td>0.417402</td>\n",
       "      <td>1.0</td>\n",
       "      <td>1.0</td>\n",
       "    </tr>\n",
       "    <tr>\n",
       "      <th>1</th>\n",
       "      <td>2.0</td>\n",
       "      <td>2.0</td>\n",
       "      <td>2.0</td>\n",
       "      <td>1.0</td>\n",
       "      <td>1.0</td>\n",
       "      <td>1.0</td>\n",
       "      <td>2.0</td>\n",
       "      <td>1.0</td>\n",
       "      <td>1.0</td>\n",
       "      <td>-0.057892</td>\n",
       "      <td>-0.576513</td>\n",
       "      <td>-0.195298</td>\n",
       "      <td>0.276644</td>\n",
       "      <td>-2.395774</td>\n",
       "      <td>0.0</td>\n",
       "      <td>0.0</td>\n",
       "    </tr>\n",
       "    <tr>\n",
       "      <th>2</th>\n",
       "      <td>1.0</td>\n",
       "      <td>1.0</td>\n",
       "      <td>1.0</td>\n",
       "      <td>1.0</td>\n",
       "      <td>1.0</td>\n",
       "      <td>1.0</td>\n",
       "      <td>1.0</td>\n",
       "      <td>1.0</td>\n",
       "      <td>1.0</td>\n",
       "      <td>-0.048566</td>\n",
       "      <td>-0.576513</td>\n",
       "      <td>-0.136597</td>\n",
       "      <td>0.276644</td>\n",
       "      <td>0.417402</td>\n",
       "      <td>1.0</td>\n",
       "      <td>1.0</td>\n",
       "    </tr>\n",
       "    <tr>\n",
       "      <th>3</th>\n",
       "      <td>2.0</td>\n",
       "      <td>2.0</td>\n",
       "      <td>1.0</td>\n",
       "      <td>1.0</td>\n",
       "      <td>1.0</td>\n",
       "      <td>2.0</td>\n",
       "      <td>1.0</td>\n",
       "      <td>1.0</td>\n",
       "      <td>1.0</td>\n",
       "      <td>0.163385</td>\n",
       "      <td>-0.576513</td>\n",
       "      <td>-0.188776</td>\n",
       "      <td>0.276644</td>\n",
       "      <td>0.417402</td>\n",
       "      <td>1.0</td>\n",
       "      <td>1.0</td>\n",
       "    </tr>\n",
       "    <tr>\n",
       "      <th>4</th>\n",
       "      <td>1.0</td>\n",
       "      <td>2.0</td>\n",
       "      <td>1.0</td>\n",
       "      <td>1.0</td>\n",
       "      <td>1.0</td>\n",
       "      <td>2.0</td>\n",
       "      <td>1.0</td>\n",
       "      <td>1.0</td>\n",
       "      <td>1.0</td>\n",
       "      <td>-0.501295</td>\n",
       "      <td>1.054045</td>\n",
       "      <td>-0.554026</td>\n",
       "      <td>0.276644</td>\n",
       "      <td>0.417402</td>\n",
       "      <td>1.0</td>\n",
       "      <td>1.0</td>\n",
       "    </tr>\n",
       "    <tr>\n",
       "      <th>5</th>\n",
       "      <td>2.0</td>\n",
       "      <td>2.0</td>\n",
       "      <td>3.0</td>\n",
       "      <td>1.0</td>\n",
       "      <td>1.0</td>\n",
       "      <td>2.0</td>\n",
       "      <td>1.0</td>\n",
       "      <td>1.0</td>\n",
       "      <td>1.0</td>\n",
       "      <td>0.163385</td>\n",
       "      <td>0.039581</td>\n",
       "      <td>0.880884</td>\n",
       "      <td>0.276644</td>\n",
       "      <td>0.417402</td>\n",
       "      <td>1.0</td>\n",
       "      <td>1.0</td>\n",
       "    </tr>\n",
       "    <tr>\n",
       "      <th>6</th>\n",
       "      <td>2.0</td>\n",
       "      <td>1.0</td>\n",
       "      <td>1.0</td>\n",
       "      <td>1.0</td>\n",
       "      <td>1.0</td>\n",
       "      <td>2.0</td>\n",
       "      <td>1.0</td>\n",
       "      <td>1.0</td>\n",
       "      <td>1.0</td>\n",
       "      <td>-0.517064</td>\n",
       "      <td>-0.576513</td>\n",
       "      <td>-1.036677</td>\n",
       "      <td>2.159201</td>\n",
       "      <td>-2.395774</td>\n",
       "      <td>0.0</td>\n",
       "      <td>0.0</td>\n",
       "    </tr>\n",
       "    <tr>\n",
       "      <th>7</th>\n",
       "      <td>2.0</td>\n",
       "      <td>2.0</td>\n",
       "      <td>2.0</td>\n",
       "      <td>1.0</td>\n",
       "      <td>1.0</td>\n",
       "      <td>2.0</td>\n",
       "      <td>1.0</td>\n",
       "      <td>1.0</td>\n",
       "      <td>1.0</td>\n",
       "      <td>-0.361407</td>\n",
       "      <td>0.070113</td>\n",
       "      <td>-0.032240</td>\n",
       "      <td>0.276644</td>\n",
       "      <td>0.417402</td>\n",
       "      <td>1.0</td>\n",
       "      <td>1.0</td>\n",
       "    </tr>\n",
       "    <tr>\n",
       "      <th>8</th>\n",
       "      <td>2.0</td>\n",
       "      <td>2.0</td>\n",
       "      <td>4.0</td>\n",
       "      <td>1.0</td>\n",
       "      <td>1.0</td>\n",
       "      <td>1.0</td>\n",
       "      <td>1.0</td>\n",
       "      <td>1.0</td>\n",
       "      <td>1.0</td>\n",
       "      <td>-0.319864</td>\n",
       "      <td>0.332180</td>\n",
       "      <td>-0.253999</td>\n",
       "      <td>0.276644</td>\n",
       "      <td>-2.395774</td>\n",
       "      <td>0.0</td>\n",
       "      <td>0.0</td>\n",
       "    </tr>\n",
       "  </tbody>\n",
       "</table>"
      ],
      "text/plain": [
       "<IPython.core.display.HTML object>"
      ]
     },
     "metadata": {},
     "output_type": "display_data"
    }
   ],
   "source": [
    "learn_2.show_results()"
   ]
  }
 ],
 "metadata": {
  "kernelspec": {
   "display_name": "Python 3",
   "language": "python",
   "name": "python3"
  },
  "language_info": {
   "codemirror_mode": {
    "name": "ipython",
    "version": 3
   },
   "file_extension": ".py",
   "mimetype": "text/x-python",
   "name": "python",
   "nbconvert_exporter": "python",
   "pygments_lexer": "ipython3",
   "version": "3.7.6"
  },
  "papermill": {
   "duration": 22.826956,
   "end_time": "2021-01-26T22:09:27.227704",
   "environment_variables": {},
   "exception": null,
   "input_path": "__notebook__.ipynb",
   "output_path": "__notebook__.ipynb",
   "parameters": {},
   "start_time": "2021-01-26T22:09:04.400748",
   "version": "2.1.0"
  }
 },
 "nbformat": 4,
 "nbformat_minor": 4
}
